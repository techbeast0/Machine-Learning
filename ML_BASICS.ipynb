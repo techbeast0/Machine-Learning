{
  "nbformat": 4,
  "nbformat_minor": 0,
  "metadata": {
    "colab": {
      "provenance": [],
      "authorship_tag": "ABX9TyPo7LTUwJyMO2LjR+OLGzYY",
      "include_colab_link": true
    },
    "kernelspec": {
      "name": "python3",
      "display_name": "Python 3"
    },
    "language_info": {
      "name": "python"
    }
  },
  "cells": [
    {
      "cell_type": "markdown",
      "metadata": {
        "id": "view-in-github",
        "colab_type": "text"
      },
      "source": [
        "<a href=\"https://colab.research.google.com/github/techbeast0/Machine-Learning/blob/main/ML_BASICS.ipynb\" target=\"_parent\"><img src=\"https://colab.research.google.com/assets/colab-badge.svg\" alt=\"Open In Colab\"/></a>"
      ]
    },
    {
      "cell_type": "markdown",
      "source": [
        "# **MACHINE-LEARNING BASICS**"
      ],
      "metadata": {
        "id": "9wEHNv_mRVw5"
      }
    },
    {
      "cell_type": "markdown",
      "source": [
        "###**HIGHEST BASE OF A RANDOMLY GENERATED STRING PROGRAM**"
      ],
      "metadata": {
        "id": "zIk2H5HwzZa8"
      }
    },
    {
      "cell_type": "markdown",
      "source": [
        "##Note->  \n",
        "The explaination of each line of the code is written in both as comments in front of each line of the code as well as explicitly written in the text cell below each code cell . This is done to ensure better readability and better understanding of how the code works."
      ],
      "metadata": {
        "id": "1pHbIpqRtpK1"
      }
    },
    {
      "cell_type": "markdown",
      "source": [
        "The following program illustrates how to find the highest base number of a randomly generated string in the Python programming language.\n",
        "\n",
        "**Prerequisites** :-\n",
        "\n",
        "*   Basic Python data structures\n",
        "*   Basics of loops and iterators\n",
        "*   Basics of python packages\n",
        "\n",
        "\n",
        "\n",
        "\n",
        "\n"
      ],
      "metadata": {
        "id": "fNYSYG48zrDe"
      }
    },
    {
      "cell_type": "markdown",
      "source": [
        "#Brief Description of Some important Elements used in the program:-\n",
        "\n",
        "* Dictionary\n",
        "\n",
        "In Python, a dictionary is a built-in data type that allows you to store and retrieve values using key-value pairs. It is also known as an associative array, map, or hash table in other programming languages. Dictionaries in Python are defined using curly braces {}, and each key-value pair is separated by a colon :.\n",
        "\n",
        "\n",
        "\n",
        "* Zip Function():\n",
        "\n",
        "The zip function in Python is a built-in function that takes two or more iterable objects as arguments and returns an iterator that generates tuples containing elements from the input iterables. It combines corresponding elements from each iterable into pairs (or tuples).\n",
        "\n",
        "* Range Function()\n",
        "\n",
        "The range function in Python is a built-in function used to generate a sequence of numbers. It is commonly used in for loops to iterate over a sequence of numbers. It is a lazy evaluation function as it does not produces instant output\n",
        "by itself.It needs to be stored in another data structure for generating results.\n",
        "\n",
        "* chr() function:\n",
        "\n",
        "The chr function in Python is a built-in function that returns a string representing a character whose Unicode code point is the integer argument. In other words, it converts an integer Unicode code point into a single-character string.\n",
        "\n"
      ],
      "metadata": {
        "id": "wDUlWQwRnfXN"
      }
    },
    {
      "cell_type": "markdown",
      "source": [
        "#Thought process or Logical flow of the program\n",
        "\n",
        "How to generate a random alpha-numeric String --> Where to store the characters of the string-->How to find the highest character from the generated string-->how to find the highest numeric base of that character-->Where to store the base found-->How to find the frequency of all the bases-->How to select an appropriate graphical representation to plot the bases and their corressponding frequencies.\n",
        "            "
      ],
      "metadata": {
        "id": "P9nGrp0BqaXl"
      }
    },
    {
      "cell_type": "code",
      "source": [
        "import random\n",
        "import matplotlib.pyplot as plt"
      ],
      "metadata": {
        "id": "OqAA3geMXbYq"
      },
      "execution_count": null,
      "outputs": []
    },
    {
      "cell_type": "markdown",
      "source": [
        "In the above code cell, we are importing two python modules:\n",
        "* Random\n",
        "* Matplotlib\n",
        "\n",
        "Random:-\n",
        "\n",
        "The random module in Python provides functions for generating pseudo-random numbers.\n",
        "It includes various functions, such as random(), which generates a random float in the range [0.0, 1.0), and randint(a, b), which generates a random integer in the inclusive range [a, b].\n",
        "\n",
        "Matplotlib:-\n",
        "\n",
        "Matplotlib is a popular Python library for creating static, animated, and interactive visualizations in a variety of formats.\n",
        "The pyplot module within matplotlib provides a simple interface for creating various types of plots, charts, and graphs.\n",
        "It allows you to create line plots, bar charts, histograms, scatter plots, and more."
      ],
      "metadata": {
        "id": "edPx06-K1nqD"
      }
    },
    {
      "cell_type": "code",
      "source": [
        "mapping_dict = dict(zip(range(0,10),range(0,10)))"
      ],
      "metadata": {
        "id": "_XpZ9Y1YXofj"
      },
      "execution_count": null,
      "outputs": []
    },
    {
      "cell_type": "markdown",
      "source": [
        "The code snippet in the above cell creates a dictionary named mapping_dict using the zip function.\n",
        "\n",
        "* range(0, 10) generates a sequence of numbers from 0 to 9 (inclusive). This is a range of integers.\n",
        "\n",
        "* zip(range(0, 10), range(0, 10)) combines two identical ranges into pairs. In this case, it pairs each number from 0 to 9 with the corresponding number from 0 to 9.\n",
        "\n",
        "* dict() is then used to convert these pairs into a dictionary. Each pair becomes a key-value pair in the dictionary, where the first element of the pair is the key, and the second element is the value."
      ],
      "metadata": {
        "id": "I-NiQmDz23T3"
      }
    },
    {
      "cell_type": "code",
      "source": [
        "for k in mapping_dict.keys():\n",
        "\n",
        "  mapping_dict[k] = str(mapping_dict[k])\n",
        "\n"
      ],
      "metadata": {
        "id": "ASrCbmC9Xsrj"
      },
      "execution_count": null,
      "outputs": []
    },
    {
      "cell_type": "markdown",
      "source": [
        "*** for k in mapping_dict.keys():**  \n",
        "\n",
        "this loop that iterates over the keys of the mapping_dict dictionary. In each iteration, k will take on the value of one of the keys in mapping_dict.\n",
        "\n",
        "  *** mapping_dict[k] = str(mapping_dict[k])**\n",
        "\n",
        "The above line accesses the current value associated with the key k and converts that value to a string using the str() function.\n",
        "The modified string value is then assigned back to mapping_dict[k], replacing the original value.\n"
      ],
      "metadata": {
        "id": "yXFGuJqKT72Q"
      }
    },
    {
      "cell_type": "code",
      "source": [
        "for i in range(0,26):\n",
        "  mapping_dict[10+i] = chr(65+i)"
      ],
      "metadata": {
        "id": "frZmsY0UXw2i"
      },
      "execution_count": null,
      "outputs": []
    },
    {
      "cell_type": "markdown",
      "source": [
        "**for i in range(0,26):**\n",
        "\n",
        "This line starts a for loop that iterates over the range of numbers from 0 to 25 (inclusive) using range(0, 26). In each iteration, i will take on the values from 0 to 25.\n",
        "\n",
        "**mapping_dict[10+i] = chr(65+i)**\n",
        "\n",
        "* Inside the loop, this line updates the mapping_dict dictionary.\n",
        "* 10 + i is used as the key. The loop starts at i = 0, so the keys will be 10, 11, 12, ..., 35.\n",
        "* chr(65+i) converts the integer 65 + i into its corresponding ASCII character. 65 represents the ASCII code for the letter 'A', so for each iteration of the loop, it will assign 'A', 'B', 'C', ..., 'Z' to the corresponding keys in mapping_dict."
      ],
      "metadata": {
        "id": "RyA8NjcZUm8N"
      }
    },
    {
      "cell_type": "code",
      "source": [
        "sample_size = 1000000   #This line sets the variable sample_size to 1000000.\n",
        "\n",
        "random_numbers = list()  #This list will be used to store the randomly generated strings.\n",
        "\n",
        "for i in range(0,sample_size):\n",
        "\n",
        "  blank_str = str()  #Inside the loop, this line initializes an empty string named blank_str. This string will be used to construct the random string.\n",
        "\n",
        "  random_digit = random.randint(0,35)\n",
        "  blank_str = blank_str + mapping_dict[random_digit]\n",
        "\n",
        "  random_digit = random.randint(0,35)\n",
        "  blank_str = blank_str + mapping_dict[random_digit]\n",
        "\n",
        "# The above two lines generate a random integer random_digit between 0 and 35 (inclusive) and appends the corresponding value from mapping_dict to blank_str.\n",
        "# This process is repeated twice, effectively adding two random characters to the string.\n",
        "\n",
        "\n",
        "  for i in range(0,8):\n",
        "    coin_toss = random.randint(0,1)\n",
        "\n",
        "    if coin_toss == 1:\n",
        "\n",
        "      random_digit = random.randint(0,35)\n",
        "      blank_str = blank_str + mapping_dict[random_digit]\n",
        "\n",
        "    else:\n",
        "      break\n",
        "  random_numbers.append(blank_str)            #After constructing the random string in blank_str, it is appended to the random_numbers list.\n",
        "\n",
        "\"\"\"\n",
        "This part of the code represents a loop that runs for a maximum of 8 iterations.\n",
        "In each iteration, a coin toss is simulated with random.randint(0, 1).\n",
        "If the result is 1, another random character is added to blank_str based on the value in mapping_dict.\n",
        "If the result is 0, the loop is broken, and no more characters are added.\n",
        "\n",
        "\"\"\"\n",
        "\n"
      ],
      "metadata": {
        "id": "853Ff6Y8RjvB",
        "colab": {
          "base_uri": "https://localhost:8080/",
          "height": 53
        },
        "outputId": "0a9bd4b3-efce-4266-a340-bd273f4687a5"
      },
      "execution_count": null,
      "outputs": [
        {
          "output_type": "execute_result",
          "data": {
            "text/plain": [
              "'\\nThis part of the code represents a loop that runs for a maximum of 8 iterations. \\nIn each iteration, a coin toss is simulated with random.randint(0, 1). \\nIf the result is 1, another random character is added to blank_str based on the value in mapping_dict. \\nIf the result is 0, the loop is broken, and no more characters are added.\\n\\n'"
            ],
            "application/vnd.google.colaboratory.intrinsic+json": {
              "type": "string"
            }
          },
          "metadata": {},
          "execution_count": 27
        }
      ]
    },
    {
      "cell_type": "markdown",
      "source": [
        "**sample_size = 1000000**\n",
        "\n",
        "This line sets the variable sample_size to 1000000.\n",
        "\n",
        "**random_numbers = list()**  \n",
        "\n",
        "This list will be used to store the randomly generated strings.\n",
        "\n",
        "**for i in range(0,sample_size):**\n",
        "\n",
        "**blank_str = str()**\n",
        "\n",
        "Inside the loop, this line initializes an empty string named blank_str. This string will be used to construct the random string.\n",
        "\n",
        "\n",
        "**random_digit = random.randint(0,35)**\n",
        "\n",
        "**blank_str = blank_str + mapping_dict[random_digit]**\n",
        "\n",
        "**random_digit = random.randint(0,35)**\n",
        "\n",
        "**blank_str = blank_str + mapping_dict[random_digit]**\n",
        "\n",
        "\n",
        "The above two lines generate a random integer random_digit between 0 and 35 (inclusive) and appends the corresponding value from mapping_dict to blank_str.\n",
        "# Note 1\n",
        "This process is repeated twice, effectively adding two random characters to the string.\n",
        "\n",
        "# Note 2\n",
        "\n",
        "radint(0,35) -> the range is selected as 0-35 . This is because 0-9 will be mapped to the numeric characters from 0-9 , while rest 10-35 will be mapped to their corresponding ASCII character from 'A'-'Z'.\n",
        "\n",
        "  **for i in range(0,8):**\n",
        "    \n",
        "  **coin_toss = random.randint(0,1)**\n",
        "\n",
        "  **if coin_toss == 1:**\n",
        "\n",
        "  **random_digit = random.randint(0,35)**\n",
        "      \n",
        "  **blank_str = blank_str + mapping_dict[random_digit]**\n",
        "\n",
        "  **else:**\n",
        "      \n",
        "  **break**\n",
        "  \n",
        "  **random_numbers.append(blank_str)**            \n",
        "  \n",
        "* This part of the code represents a loop that runs for a maximum of 8 iterations.\n",
        "* In each iteration, a coin toss is simulated with random.randint(0, 1).\n",
        "If the result is 1, another random character is added to blank_str based on the value in mapping_dict.\n",
        "* If the result is 0, the loop is broken, and no more characters are added.\n",
        "* After constructing the random string in blank_str, it is appended to the random_numbers list.\n",
        "\n",
        "\n",
        "\n",
        "\n"
      ],
      "metadata": {
        "id": "jR6SrwW1VT3e"
      }
    },
    {
      "cell_type": "code",
      "source": [
        "reverse_mapping_dict = dict()\n",
        "\n",
        "# The above line initializes an empty dictionary named reverse_mapping_dict.\n",
        "# This dictionary will be used to create a reverse mapping, where the keys and values of mapping_dict are swapped.\n",
        "\n",
        "for k in mapping_dict.keys():\n",
        "  reverse_mapping_dict[mapping_dict[k]] = k\n",
        "\n",
        "\"\"\"\n",
        "* Inside the loop, this line creates entries in the reverse_mapping_dict dictionary.\n",
        "* It swaps the key-value pairs from mapping_dict and adds them to reverse_mapping_dict.\n",
        "*  mapping_dict[k] is the value associated with the current key k in mapping_dict.\n",
        "*  k becomes the key in reverse_mapping_dict.\n",
        "\n",
        "\"\"\""
      ],
      "metadata": {
        "id": "fQbbOwQqXnUz",
        "colab": {
          "base_uri": "https://localhost:8080/",
          "height": 53
        },
        "outputId": "fc2dd3eb-ab47-497f-934a-67b0ec86bc84"
      },
      "execution_count": null,
      "outputs": [
        {
          "output_type": "execute_result",
          "data": {
            "text/plain": [
              "'\\n* Inside the loop, this line creates entries in the reverse_mapping_dict dictionary.\\n* It swaps the key-value pairs from mapping_dict and adds them to reverse_mapping_dict.\\n*  mapping_dict[k] is the value associated with the current key k in mapping_dict.\\n*  k becomes the key in reverse_mapping_dict.\\n\\n'"
            ],
            "application/vnd.google.colaboratory.intrinsic+json": {
              "type": "string"
            }
          },
          "metadata": {},
          "execution_count": 28
        }
      ]
    },
    {
      "cell_type": "markdown",
      "source": [
        "**reverse_mapping_dict = dict()**\n",
        "\n",
        "The above line initializes an empty dictionary named reverse_mapping_dict.\n",
        "This dictionary will be used to create a reverse mapping, where the keys and values of mapping_dict are swapped.\n",
        "\n",
        "\n",
        "**for k in mapping_dict.keys():**\n",
        "  \n",
        "  **reverse_mapping_dict[mapping_dict[k]] = k**\n",
        "\n",
        "\n",
        "* Inside the loop, this line creates entries in the reverse_mapping_dict dictionary.\n",
        "* It swaps the key-value pairs from mapping_dict and adds them to reverse_mapping_dict.\n",
        "*  mapping_dict[k] is the value associated with the current key k in mapping_dict.\n",
        "*  k becomes the key in reverse_mapping_dict.\n",
        "\n"
      ],
      "metadata": {
        "id": "egqSf_6FYu2K"
      }
    },
    {
      "cell_type": "code",
      "source": [
        "base_frequency = dict() # This line initializes an empty dictionary named base_frequency. This dictionary will be used to keep track of the frequency of different \"bases.\"\n",
        "\n",
        "for blank_str in random_numbers:\n",
        "  highest_digit = max(blank_str)  #This line finds the highest character (digit) in the current blank_str. The max() function is used to find the highest character based on their ASCII values.\n",
        "  highest_base = reverse_mapping_dict[highest_digit] + 1\n",
        "\n",
        "# This line uses the reverse_mapping_dict to find the corresponding key (base) for the highest_digit.\n",
        "# It adds 1 to the result, assuming that the bases are 1-indexed. The result is stored in the variable highest_base\n",
        "\n",
        "  if highest_base in base_frequency.keys():\n",
        "    base_frequency[highest_base] += (1/sample_size)\n",
        "  else:\n",
        "    base_frequency[highest_base] = (1/sample_size)\n",
        "\n",
        "    \"\"\"\n",
        "    These lines update the base_frequency dictionary based on the highest_base value.\n",
        "    If highest_base is already a key in base_frequency, it increments its value by (1/sample_size). This is done to keep track of the frequency of each base.\n",
        "    If highest_base is not in base_frequency.keys(), a new entry is created with highest_base as the key, and its value is set to (1/sample_size).\n",
        "\n",
        "    \"\"\""
      ],
      "metadata": {
        "id": "7xttSCzjYEsU"
      },
      "execution_count": null,
      "outputs": []
    },
    {
      "cell_type": "markdown",
      "source": [
        "**base_frequency = dict()**\n",
        "\n",
        " This line initializes an empty dictionary named base_frequency. This dictionary will be used to keep track of the frequency of different \"bases.\"\n",
        "\n",
        "**for blank_str in random_numbers:**\n",
        "  \n",
        " **highest_digit = max(blank_str)**  \n",
        "  \n",
        "  This line finds the highest character (digit) in the current blank_str. The max() function is used to find the highest character based on their ASCII values.\n",
        "  \n",
        "  **highest_base = reverse_mapping_dict[highest_digit] + 1**\n",
        "\n",
        "* This line uses the reverse_mapping_dict to find the corresponding key (base) for the highest_digit.\n",
        "* It adds 1 to the result, assuming that the bases are 1-indexed. The result is stored in the variable highest_base\n",
        "\n",
        "  **if highest_base in base_frequency.keys():**\n",
        "\n",
        "    \n",
        "   **base_frequency[highest_base] += (1/sample_size)**\n",
        "  \n",
        "  **else:**\n",
        "   \n",
        "  **base_frequency[highest_base] = (1/sample_size)**\n",
        "\n",
        "  * These lines update the base_frequency dictionary based on the highest_base value.\n",
        "  * If highest_base is already a key in base_frequency, it increments its value by (1/sample_size). This is done to keep track of the frequency of each base.\n",
        "  * If highest_base is not in base_frequency.keys(), a new entry is created with highest_base as the key, and its value is set to (1/sample_size).\n",
        "\n",
        "**Note** -> we are dividing the base frequency by sample size to convert it\n",
        "            into the relative frequency\n"
      ],
      "metadata": {
        "id": "ve5MgetmZ8Pl"
      }
    },
    {
      "cell_type": "code",
      "source": [
        "plt.bar(x=base_frequency.keys(),height=base_frequency.values())  #This line uses the matplotlib.pyplot library to create a bar chart\n",
        "\n",
        "\"\"\"\n",
        "x=base_frequency.keys():--\n",
        " This specifies the x-axis values for the bars in the bar chart. It takes the keys from the base_frequency dictionary, which presumably represent the bases.\n",
        "\n",
        "height=base_frequency.values():--\n",
        " This specifies the heights of the bars on the y-axis. It takes the values from the base_frequency dictionary, which represent the frequencies of the corresponding bases.\n",
        "\n",
        "\"\"\""
      ],
      "metadata": {
        "colab": {
          "base_uri": "https://localhost:8080/",
          "height": 447
        },
        "id": "hlmz26OQYIGi",
        "outputId": "99c4ce2e-6a3d-422c-ade3-9cca593b4021"
      },
      "execution_count": null,
      "outputs": [
        {
          "output_type": "execute_result",
          "data": {
            "text/plain": [
              "<BarContainer object of 36 artists>"
            ]
          },
          "metadata": {},
          "execution_count": 30
        },
        {
          "output_type": "display_data",
          "data": {
            "text/plain": [
              "<Figure size 640x480 with 1 Axes>"
            ],
            "image/png": "[encoded data removed]"
          },
          "metadata": {}
        }
      ]
    },
    {
      "cell_type": "markdown",
      "source": [
        "**plt.bar(x=base_frequency.keys(),height=base_frequency.values())**:-                                                                             \n",
        "This line uses the matplotlib.pyplot library to create a bar chart\n",
        "\n",
        "* x=base_frequency.keys():--\n",
        " This specifies the x-axis values for the bars in the bar chart. It takes the keys from the base_frequency dictionary, which presumably represent the bases.\n",
        "\n",
        "* height=base_frequency.values():--\n",
        " This specifies the heights of the bars on the y-axis. It takes the values from the base_frequency dictionary, which represent the frequencies of the corresponding bases.\n"
      ],
      "metadata": {
        "id": "T7hncYitmjYC"
      }
    },
    {
      "cell_type": "markdown",
      "source": [],
      "metadata": {
        "id": "uJYv9Z7cfCBe"
      }
    }
  ]
}